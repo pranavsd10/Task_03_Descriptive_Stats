{
 "cells": [
  {
   "cell_type": "code",
   "execution_count": null,
   "id": "4f607e1a",
   "metadata": {},
   "outputs": [
    {
     "name": "stdout",
     "output_type": "stream",
     "text": [
      "✅ Cleaned file saved as 'twitter_posts_cleaned.csv'\n"
     ]
    }
   ],
   "source": [
    "import pandas as pd\n",
    "\n",
    "#Load dataset\n",
    "df = pd.read_csv(\"/Users/pranavdalvi/Research Analyst ischool/Task_03_Descriptive_Stats/2024_tw_posts_president_scored_anon.csv\")  # Replace with your actual file path\n",
    "\n",
    "# Convert TRUE/FALSE strings to 1/0 integers\n",
    "bool_cols = [\"isReply\", \"isRetweet\", \"isQuote\", \"isConversationControlled\"]\n",
    "\n",
    "for col in bool_cols:\n",
    "    if col in df.columns:\n",
    "        df[col] = df[col].astype(str).str.upper().map({\"TRUE\": 1, \"FALSE\": 0}).fillna(0).astype(int)\n",
    "\n",
    "# Drop quoteId and inReplyToId if they exist\n",
    "df = df.drop(columns=[col for col in [\"quoteId\", \"inReplyToId\"] if col in df.columns])\n",
    "\n",
    "# Save cleaned CSV\n",
    "df.to_csv(\"twitter_posts_cleaned.csv\", index=False)\n",
    "print(\"✅ Cleaned file saved as 'twitter_posts_cleaned.csv'\")\n"
   ]
  },
  {
   "cell_type": "code",
   "execution_count": null,
   "id": "c8af54b7",
   "metadata": {},
   "outputs": [
    {
     "name": "stdout",
     "output_type": "stream",
     "text": [
      "✅ Cleaned Facebook Posts saved as 'facebook_posts_cleaned.csv'\n"
     ]
    }
   ],
   "source": [
    "import pandas as pd\n",
    "\n",
    "# Load dataset\n",
    "df = pd.read_csv(\"/Users/pranavdalvi/Research Analyst ischool/Task_03_Descriptive_Stats/2024_fb_posts_president_scored_anon.csv\")\n",
    "\n",
    "# Remove rows with blank values in key columns\n",
    "df = df[df[\"Page Category\"].notna() & (df[\"Page Category\"].astype(str).str.strip() != \"\")]\n",
    "df = df[df[\"Page Admin Top Country\"].notna() & (df[\"Page Admin Top Country\"].astype(str).str.strip() != \"\")]\n",
    "\n",
    "# Drop unwanted columns\n",
    "columns_to_drop = [\n",
    "    \"Sponsor Id\", \"Sponsor Name\",\n",
    "    \"Sponsor Category\", \"illuminating_scored_messageelection_integrity_Truth_illuminating\"\n",
    "]\n",
    "df = df.drop(columns=[col for col in columns_to_drop if col in df.columns])\n",
    "\n",
    "# Convert 'Is Video Owner?' column values\n",
    "df[\"Is Video Owner?\"] = df[\"Is Video Owner?\"].map({\n",
    "    \"Yes\": 1,\n",
    "    \"No\": 0,\n",
    "    \"-\": None\n",
    "})\n",
    "\n",
    "# One-hot encode 'Video Share Status' into is_crosspost, is_owned, is_share\n",
    "video_status_types = [\"crosspost\", \"owned\", \"share\"]\n",
    "df[\"Video Share Status\"] = df[\"Video Share Status\"].fillna(\"\").str.lower()\n",
    "\n",
    "for status in video_status_types:\n",
    "    df[f\"is_{status}\"] = (df[\"Video Share Status\"] == status).astype(int)\n",
    "\n",
    "df = df.drop(columns=[\"Video Share Status\"])\n",
    "\n",
    "# Save cleaned data\n",
    "df.to_csv(\"facebook_posts_cleaned.csv\", index=False)\n",
    "print(\"✅ Cleaned Facebook Posts saved as 'facebook_posts_cleaned.csv'\")\n"
   ]
  },
  {
   "cell_type": "code",
   "execution_count": null,
   "id": "5b197b94",
   "metadata": {},
   "outputs": [
    {
     "name": "stdout",
     "output_type": "stream",
     "text": [
      "✅ Final dataset saved as 'ads_with_demographics_expanded.csv'\n"
     ]
    }
   ],
   "source": [
    "import pandas as pd\n",
    "import ast\n",
    "\n",
    "# Load dataset\n",
    "df = pd.read_csv(\"/Users/pranavdalvi/Research Analyst ischool/Task_03_Descriptive_Stats/2024_fb_ads_president_scored_anon.csv\")  # Adjust path\n",
    "\n",
    "# Convert demographic_distribution column from string to dict\n",
    "df[\"demographic_distribution\"] = df[\"demographic_distribution\"].apply(\n",
    "    lambda x: ast.literal_eval(x) if pd.notnull(x) and isinstance(x, str) else {}\n",
    ")\n",
    "\n",
    "# Step 2: Flatten demographic_distribution into a long-form list of records\n",
    "records = []\n",
    "for idx, row in df.iterrows():\n",
    "    ad_id = row.get(\"ad_id\") or row.get(\"Facebook_Id\") or row.get(\"id\")  # Use whichever column exists\n",
    "    demographics = row[\"demographic_distribution\"]\n",
    "\n",
    "    if isinstance(demographics, dict):\n",
    "        for key, values in demographics.items():\n",
    "            if isinstance(values, dict):\n",
    "                try:\n",
    "                    gender, age = key.split(\"_\")\n",
    "                    records.append({\n",
    "                        \"ad_id\": ad_id,\n",
    "                        \"gender\": gender,\n",
    "                        \"age_group\": age,\n",
    "                        \"spend\": values.get(\"spend\", 0),\n",
    "                        \"impressions\": values.get(\"impressions\", 0)\n",
    "                    })\n",
    "                except ValueError:\n",
    "                    continue  # skip malformed keys\n",
    "\n",
    "# Create the long-form demographics dataframe\n",
    "df_demo_long = pd.DataFrame(records)\n",
    "\n",
    "# Drop the original demographic_distribution column from the main df\n",
    "df = df.drop(columns=[\"demographic_distribution\"])\n",
    "\n",
    "df_merged = df.merge(df_demo_long, on=\"ad_id\", how=\"inner\")\n",
    "\n",
    "# Save the final merged dataset\n",
    "df_merged.to_csv(\"ads_with_demographics_expanded.csv\", index=False)\n",
    "print(\"✅ Final dataset saved as 'ads_with_demographics_expanded.csv'\")\n"
   ]
  },
  {
   "cell_type": "code",
   "execution_count": null,
   "id": "fd0f8b8c",
   "metadata": {},
   "outputs": [
    {
     "name": "stdout",
     "output_type": "stream",
     "text": [
      "✅ Final dataset saved as 'ads_with_demographics_expanded.csv'\n"
     ]
    }
   ],
   "source": [
    "import pandas as pd\n",
    "import ast\n",
    "\n",
    "# Load original dataset\n",
    "df = pd.read_csv(\"/Users/pranavdalvi/Research Analyst ischool/Task_03_Descriptive_Stats/2024_fb_ads_president_scored_anon.csv\")\n",
    "\n",
    "# Convert demographic_distribution column from string to dict\n",
    "df[\"demographic_distribution\"] = df[\"demographic_distribution\"].apply(\n",
    "    lambda x: ast.literal_eval(x) if pd.notnull(x) and isinstance(x, str) else {}\n",
    ")\n",
    "\n",
    "# Flatten demographic_distribution into a long-form list of records\n",
    "records = []\n",
    "for idx, row in df.iterrows():\n",
    "    ad_id = row.get(\"ad_id\") or row.get(\"Facebook_Id\") or row.get(\"id\")  # Use whichever column exists\n",
    "    demographics = row[\"demographic_distribution\"]\n",
    "\n",
    "    if isinstance(demographics, dict):\n",
    "        for key, values in demographics.items():\n",
    "            if isinstance(values, dict):\n",
    "                try:\n",
    "                    gender, age = key.split(\"_\")\n",
    "                    records.append({\n",
    "                        \"ad_id\": ad_id,\n",
    "                        \"gender\": gender,\n",
    "                        \"age_group\": age,\n",
    "                        \"spend\": values.get(\"spend\", 0),\n",
    "                        \"impressions\": values.get(\"impressions\", 0)\n",
    "                    })\n",
    "                except ValueError:\n",
    "                    continue  # skip malformed keys\n",
    "\n",
    "# Create the long-form demographics dataframe\n",
    "df_demo_long = pd.DataFrame(records)\n",
    "\n",
    "# Convert gender to numeric values: male=1, female=0, unknown=None\n",
    "df_demo_long[\"gender\"] = df_demo_long[\"gender\"].map({\n",
    "    \"male\": 1,\n",
    "    \"female\": 0,\n",
    "    \"unknown\": None\n",
    "})\n",
    "\n",
    "# Drop the original demographic_distribution column from the main df\n",
    "df = df.drop(columns=[\"demographic_distribution\"])\n",
    "\n",
    "# Merge long-form demographics with main dataframe\n",
    "df_merged = df.merge(df_demo_long, on=\"ad_id\", how=\"inner\")\n",
    "\n",
    "# Save the final merged dataset\n",
    "df_merged.to_csv(\"ads_with_demographics_expanded.csv\", index=False)\n",
    "print(\"✅ Final dataset saved as 'ads_with_demographics_expanded.csv'\")\n"
   ]
  }
 ],
 "metadata": {
  "kernelspec": {
   "display_name": "Python 3",
   "language": "python",
   "name": "python3"
  },
  "language_info": {
   "codemirror_mode": {
    "name": "ipython",
    "version": 3
   },
   "file_extension": ".py",
   "mimetype": "text/x-python",
   "name": "python",
   "nbconvert_exporter": "python",
   "pygments_lexer": "ipython3",
   "version": "3.12.4"
  }
 },
 "nbformat": 4,
 "nbformat_minor": 5
}
